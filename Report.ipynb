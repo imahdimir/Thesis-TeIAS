{
 "cells": [
  {
   "cell_type": "code",
   "execution_count": 9,
   "outputs": [
    {
     "data": {
      "text/plain": "PosixPath('/Users/mahdimir/Documents/Projects/Thesis-TeIAS')"
     },
     "execution_count": 9,
     "metadata": {},
     "output_type": "execute_result"
    }
   ],
   "source": [
    "from pathlib import Path\n",
    "import pandas as pd\n",
    "from tabulate import tabulate\n",
    "from py import NS\n",
    "\n",
    "dirs = NS.Dirs()\n",
    "gf = NS.GlobalFiles()\n",
    "ar = NS.AllResults()\n",
    "rs = NS.RSSParams()\n",
    "jn = NS.JupyNBReports()\n",
    "\n",
    "CWD = Path.cwd()\n",
    "CWD"
   ],
   "metadata": {
    "collapsed": false,
    "pycharm": {
     "name": "#%%\n"
    }
   }
  },
  {
   "cell_type": "markdown",
   "source": [
    "# General Remarks\n",
    "* Zero cost strategy returns in each month is equal to returns to winner(buy) portfolio minus the returns to losers(Sell) portfolio?\n",
    "My ans. Yes\n",
    "* All porfolios have long positions."
   ],
   "metadata": {
    "collapsed": false
   }
  },
  {
   "cell_type": "code",
   "execution_count": 10,
   "source": [
    "allr = pd.read_excel(CWD / f\"{gf.allResults_Xl}{NS.xlsuf}\")\n",
    "# allr"
   ],
   "outputs": [],
   "metadata": {
    "collapsed": false,
    "jupyter": {
     "outputs_hidden": false
    },
    "pycharm": {
     "name": "#%%\n"
    }
   }
  },
  {
   "cell_type": "code",
   "execution_count": 11,
   "source": [
    "#%# JT93 - Table 1\n",
    "conf = {\n",
    "        rs.nthWDayEachMonthForEval: [0],\n",
    "        rs.mMonthSkip             : [0],\n",
    "        rs.pDaysSkip              : [0, 7],\n",
    "        rs.fromJMonth             : [138001],\n",
    "        rs.toJMonth               : [139909],\n",
    "        rs.evalMonths             : [3, 6, 9, 12],\n",
    "        rs.holdingMonths          : [3, 6, 9, 12],\n",
    "        rs.qCut                   : [10],\n",
    "        ar.strategyType           : [ar.rebalanced],\n",
    "        ar.binNo                  : [1, 10, 'w-l'], }\n",
    "\n",
    "def filter_results_by_config(config_dict, all_results=allr):\n",
    "    filtered = all_results.copy()\n",
    "    for k, v in config_dict.items():\n",
    "        filtered = filtered[filtered[k].isin(v)]\n",
    "    return filtered\n",
    "\n",
    "tbl1_0 = filter_results_by_config(conf)\n",
    "# tbl1_0"
   ],
   "outputs": [],
   "metadata": {}
  },
  {
   "cell_type": "code",
   "execution_count": 12,
   "source": [
    "def filter_table1_panel_a_or_b(tabl1, a_or_b):\n",
    "    if a_or_b == 'a':\n",
    "        skdays = 0\n",
    "    elif a_or_b == 'b':\n",
    "        skdays = 7\n",
    "    else:\n",
    "        raise 'a or b'\n",
    "    pnl = tabl1[tabl1[ar.pDaysSkip].eq(skdays)]\n",
    "    pnl = pnl[[ar.evalMonths, ar.holdingMonths, ar.binNo, ar.meanReturns,\n",
    "               ar.meanTStat, ar.meanPVal, ]]\n",
    "    pnl.loc[pnl[ar.binNo].eq(1), jn.portfo_type] = jn.short\n",
    "    pnl.loc[pnl[jn.portfo_type].eq(jn.short), 'l0'] = 0\n",
    "    pnl.loc[pnl[ar.binNo].eq(10), jn.portfo_type] = jn.long\n",
    "    pnl.loc[pnl[jn.portfo_type].eq(jn.long), 'l0'] = 1\n",
    "    pnl.loc[pnl[ar.binNo].eq('w-l'), jn.portfo_type] = jn.longMinusShort\n",
    "    pnl.loc[pnl[jn.portfo_type].eq(jn.longMinusShort), 'l0'] = 2\n",
    "    pnl = pnl.drop(columns = ar.binNo)\n",
    "    return pnl\n",
    "\n",
    "# Panel A\n",
    "tbl1_pnl_a = filter_table1_panel_a_or_b(tbl1_0, a_or_b = 'a')\n",
    "# tbl1_pnl_a"
   ],
   "outputs": [],
   "metadata": {}
  },
  {
   "cell_type": "code",
   "execution_count": 13,
   "source": [
    "def tabulate_panel(panel):\n",
    "    pnl_r = pd.pivot_table(panel,\n",
    "                           columns = ar.holdingMonths,\n",
    "                           values = ar.meanReturns,\n",
    "                           index = [ar.evalMonths, jn.portfo_type, 'l0'])\n",
    "    pnl_t = pd.pivot_table(panel,\n",
    "                           columns = ar.holdingMonths,\n",
    "                           values = ar.meanTStat,\n",
    "                           index = [ar.evalMonths, jn.portfo_type, 'l0'])\n",
    "    pnl_p = pd.pivot_table(panel,\n",
    "                           columns = ar.holdingMonths,\n",
    "                           values = ar.meanPVal,\n",
    "                           index = [ar.evalMonths, jn.portfo_type, 'l0'], )\n",
    "\n",
    "    pnl_r[\"l\"] = 0\n",
    "    pnl_t[\"l\"] = 1\n",
    "    pnl_p[\"l\"] = 2\n",
    "\n",
    "    pnl_r = pnl_r.reset_index()\n",
    "    pnl_t = pnl_t.reset_index()\n",
    "    pnl_p = pnl_p.reset_index()\n",
    "\n",
    "    pnl = pnl_r.append(pnl_t)\n",
    "    pnl = pnl.append(pnl_p)\n",
    "\n",
    "    pnl = pnl.sort_values(by = [ar.evalMonths, 'l0', \"l\"])\n",
    "\n",
    "    pnl.loc[pnl['l'].isin([0, 2]), [3, 6, 9, 12]] = pnl.loc[\n",
    "        pnl['l'].isin([0, 2]), [3, 6, 9,\n",
    "                                12]].applymap(lambda x: \"{:.2f}%\".format(100 * x))\n",
    "    pnl.loc[pnl['l'].isin([1]), [3, 6, 9, 12]] = pnl.loc[\n",
    "        pnl['l'].isin([1]), [3, 6, 9,\n",
    "                             12]].applymap(lambda x: \"{:.4f}\".format(x))\n",
    "\n",
    "    pnl[\"r-t-p\"] = pnl[\n",
    "        \"l\"].apply(lambda x: \"Returns\" if x == 0 else \"TStat\" if x == 1 else \"PVal\")\n",
    "\n",
    "    pnl = pnl[[ar.evalMonths, jn.portfo_type, \"r-t-p\", 3, 6, 9, 12]]\n",
    "\n",
    "    print(tabulate(pnl,\n",
    "                   showindex = False,\n",
    "                   headers = [\"J\", \"\", \"K\", \"3\", \"6\", \"9\", \"12\"]))"
   ],
   "outputs": [],
   "metadata": {}
  },
  {
   "cell_type": "markdown",
   "source": [
    "## Table 1 - Panel A\n",
    "Without skipping a week between portfolio formation and holding period."
   ],
   "metadata": {
    "collapsed": false,
    "pycharm": {
     "name": "#%% md\n"
    }
   }
  },
  {
   "cell_type": "code",
   "execution_count": 14,
   "outputs": [
    {
     "name": "stdout",
     "output_type": "stream",
     "text": [
      "  J                  K        3        6        9       12\n",
      "---  --------------  -------  -------  -------  ------  ------\n",
      "  3  short           Returns  3.28%    3.28%    3.09%   2.95%\n",
      "  3  short           TStat    5.4682   6.3820   6.0826  5.8611\n",
      "  3  short           PVal     0.00%    0.00%    0.00%   0.00%\n",
      "  3  long            Returns  1.73%    2.50%    3.48%   3.42%\n",
      "  3  long            TStat    1.7052   2.9899   4.6122  4.7966\n",
      "  3  long            PVal     8.95%    0.31%    0.00%   0.00%\n",
      "  3  longMinusShort  Returns  -1.55%   -0.77%   0.39%   0.47%\n",
      "  3  longMinusShort  TStat    -1.3905  -0.9879  0.6293  0.8721\n",
      "  3  longMinusShort  PVal     16.57%   32.42%   52.98%  38.41%\n",
      "  6  short           Returns  3.42%    3.18%    2.84%   2.87%\n",
      "  6  short           TStat    6.3419   6.1130   5.6183  5.7952\n",
      "  6  short           PVal     0.00%    0.00%    0.00%   0.00%\n",
      "  6  long            Returns  2.30%    3.69%    3.59%   3.65%\n",
      "  6  long            TStat    2.2069   3.3374   3.3870  3.6246\n",
      "  6  long            PVal     2.83%    0.10%    0.08%   0.04%\n",
      "  6  longMinusShort  Returns  -1.12%   0.52%    0.75%   0.79%\n",
      "  6  longMinusShort  TStat    -1.0259  0.5241   0.8384  0.9738\n",
      "  6  longMinusShort  PVal     30.60%   60.07%   40.27%  33.12%\n",
      "  9  short           Returns  3.26%    2.89%    2.75%   2.72%\n",
      "  9  short           TStat    6.0463   5.5563   5.4125  5.4124\n",
      "  9  short           PVal     0.00%    0.00%    0.00%   0.00%\n",
      "  9  long            Returns  3.97%    5.09%    4.15%   3.36%\n",
      "  9  long            TStat    2.8220   3.5672   3.1061  3.0464\n",
      "  9  long            PVal     0.52%    0.04%    0.21%   0.26%\n",
      "  9  longMinusShort  Returns  0.71%    2.20%    1.40%   0.64%\n",
      "  9  longMinusShort  TStat    0.5534   1.7836   1.2668  0.7328\n",
      "  9  longMinusShort  PVal     58.06%   7.58%    20.65%  46.44%\n",
      " 12  short           Returns  2.99%    2.81%    2.72%   2.75%\n",
      " 12  short           TStat    5.8075   5.5618   5.4315  5.5463\n",
      " 12  short           PVal     0.00%    0.00%    0.00%   0.00%\n",
      " 12  long            Returns  2.83%    3.80%    3.19%   2.80%\n",
      " 12  long            TStat    2.3303   3.0669   2.7963  2.7655\n",
      " 12  long            PVal     2.07%    0.24%    0.56%   0.62%\n",
      " 12  longMinusShort  Returns  -0.16%   0.98%    0.47%   0.05%\n",
      " 12  longMinusShort  TStat    -0.1376  0.8722   0.4834  0.0629\n",
      " 12  longMinusShort  PVal     89.07%   38.40%   62.93%  94.99%\n"
     ]
    }
   ],
   "source": [
    "tabulate_panel(tbl1_pnl_a)\n",
    "# #%% md\n",
    "### Insignificant Results at 5% in Panel A"
   ],
   "metadata": {
    "collapsed": false,
    "pycharm": {
     "name": "#%%\n"
    }
   }
  },
  {
   "cell_type": "code",
   "execution_count": 97,
   "outputs": [],
   "source": [
    "# tbl1_pnl_a_insig = tbl1_pnl_a[tbl1_pnl_a[ar.meanPVal] > 0.05]\n",
    "# tbl1_pnl_a_insig"
   ],
   "metadata": {
    "collapsed": false,
    "pycharm": {
     "name": "#%%\n"
    }
   }
  },
  {
   "cell_type": "code",
   "execution_count": 98,
   "outputs": [],
   "source": [
    "# print(tabulate(tbl1_pnl_a_insig, showindex = False, headers = 'keys'))"
   ],
   "metadata": {
    "collapsed": false,
    "pycharm": {
     "name": "#%%\n"
    }
   }
  },
  {
   "cell_type": "code",
   "execution_count": 99,
   "outputs": [],
   "source": [
    "# % Table 1-Panel B\n",
    "tbl1_pnl_b = filter_table1_panel_a_or_b(tbl1_0, a_or_b = 'b')\n",
    "# tbl1_pnl_b"
   ],
   "metadata": {
    "collapsed": false,
    "pycharm": {
     "name": "#%%\n"
    }
   }
  },
  {
   "cell_type": "markdown",
   "source": [
    "## Table 1 - Panel B"
   ],
   "metadata": {
    "collapsed": false,
    "pycharm": {
     "name": "#%% md\n"
    }
   }
  },
  {
   "cell_type": "code",
   "execution_count": 100,
   "outputs": [
    {
     "name": "stdout",
     "output_type": "stream",
     "text": [
      "  J                  K        3       6       9       12\n",
      "---  --------------  -------  ------  ------  ------  ------\n",
      "  3  short           Returns  -3.70%  -3.26%  -3.13%  -3.03%\n",
      "  3  short           TStat    6.2086  5.8521  5.7444  5.5360\n",
      "  3  short           PVal     0.00%   0.00%   0.00%   0.00%\n",
      "  3  long            Returns  1.65%   2.29%   3.12%   3.04%\n",
      "  3  long            TStat    1.5763  2.5340  3.6520  4.1902\n",
      "  3  long            PVal     11.64%  1.20%   0.03%   0.00%\n",
      "  3  longMinusShort  Returns  5.35%   5.55%   6.26%   6.07%\n",
      "  3  longMinusShort  TStat    4.1296  4.5187  5.1519  5.3395\n",
      "  3  longMinusShort  PVal     0.01%   0.00%   0.00%   0.00%\n",
      "  6  short           Returns  -3.34%  -3.09%  -2.89%  -2.90%\n",
      "  6  short           TStat    5.7721  5.5632  5.3411  5.4210\n",
      "  6  short           PVal     0.00%   0.00%   0.00%   0.00%\n",
      "  6  long            Returns  2.33%   3.14%   3.15%   3.04%\n",
      "  6  long            TStat    2.0540  2.9919  3.5239  3.5862\n",
      "  6  long            PVal     4.11%   0.31%   0.05%   0.04%\n",
      "  6  longMinusShort  Returns  5.67%   6.23%   6.04%   5.94%\n",
      "  6  longMinusShort  TStat    4.0778  4.3854  4.6811  4.6626\n",
      "  6  longMinusShort  PVal     0.01%   0.00%   0.00%   0.00%\n",
      "  9  short           Returns  -3.28%  -2.88%  -2.83%  -2.80%\n",
      "  9  short           TStat    5.7779  5.2093  5.1745  5.1809\n",
      "  9  short           PVal     0.00%   0.00%   0.00%   0.00%\n",
      "  9  long            Returns  4.02%   4.61%   3.87%   3.07%\n",
      "  9  long            TStat    3.0851  3.7325  3.5949  3.2159\n",
      "  9  long            PVal     0.23%   0.02%   0.04%   0.15%\n",
      "  9  longMinusShort  Returns  7.30%   7.49%   6.69%   5.87%\n",
      "  9  longMinusShort  TStat    4.5967  4.7235  4.5396  4.2660\n",
      "  9  longMinusShort  PVal     0.00%   0.00%   0.00%   0.00%\n",
      " 12  short           Returns  -3.12%  -2.93%  -2.86%  -2.88%\n",
      " 12  short           TStat    5.6656  5.4204  5.3650  5.4442\n",
      " 12  short           PVal     0.00%   0.00%   0.00%   0.00%\n",
      " 12  long            Returns  2.78%   3.88%   3.19%   2.75%\n",
      " 12  long            TStat    2.2860  3.2885  3.0345  2.8176\n",
      " 12  long            PVal     2.32%   0.12%   0.27%   0.53%\n",
      " 12  longMinusShort  Returns  5.90%   6.81%   6.05%   5.63%\n",
      " 12  longMinusShort  TStat    3.9842  4.5912  4.3493  4.2344\n",
      " 12  longMinusShort  PVal     0.01%   0.00%   0.00%   0.00%\n"
     ]
    }
   ],
   "source": [
    "tabulate_panel(tbl1_pnl_b)"
   ],
   "metadata": {
    "collapsed": false,
    "pycharm": {
     "name": "#%%\n"
    }
   }
  },
  {
   "cell_type": "code",
   "execution_count": 101,
   "outputs": [],
   "source": [
    "def are_all_zero_cost_portfolios_have_positive_return(table1=tbl1_0):\n",
    "    all_p = table1.loc[table1[ar.binNo].eq('w-l'), ar.meanReturns].ge(0).all()\n",
    "    return all_p\n",
    "\n",
    "all_zero_p = are_all_zero_cost_portfolios_have_positive_return()"
   ],
   "metadata": {
    "collapsed": false,
    "pycharm": {
     "name": "#%%\n"
    }
   }
  },
  {
   "cell_type": "markdown",
   "source": [
    "### Facts\n",
    "1. All Zero-cost portfolios (winners minus losers) have postive returns.\n",
    "\n",
    "   Just Like JT(93)."
   ],
   "metadata": {}
  },
  {
   "cell_type": "code",
   "execution_count": 102,
   "outputs": [
    {
     "name": "stdout",
     "output_type": "stream",
     "text": [
      "True\n"
     ]
    }
   ],
   "source": [
    "print(all_zero_p)"
   ],
   "metadata": {
    "collapsed": false,
    "pycharm": {
     "name": "#%%\n"
    }
   }
  },
  {
   "cell_type": "code",
   "execution_count": 103,
   "outputs": [],
   "source": [
    "def are_all_zero_cost_portfolios_have_sig_returns(table1=tbl1_0):\n",
    "    all_s = table1.loc[table1[ar.binNo].eq('w-l'), ar.meanPVal].lt(0.05).all()\n",
    "    # print(all_p)\n",
    "    return all_s\n",
    "\n",
    "all_s_r = are_all_zero_cost_portfolios_have_sig_returns()"
   ],
   "metadata": {
    "collapsed": false,
    "pycharm": {
     "name": "#%%\n"
    }
   }
  },
  {
   "cell_type": "markdown",
   "source": [
    "2. Are all zero-cost portfolios returns have significant returns at 5%?\n",
    "\n",
    "    YES!"
   ],
   "metadata": {
    "collapsed": false,
    "pycharm": {
     "name": "#%% md\n"
    }
   }
  },
  {
   "cell_type": "code",
   "execution_count": 104,
   "outputs": [
    {
     "name": "stdout",
     "output_type": "stream",
     "text": [
      "True\n"
     ]
    }
   ],
   "source": [
    "print(all_s_r)"
   ],
   "metadata": {
    "collapsed": false,
    "pycharm": {
     "name": "#%%\n"
    }
   }
  },
  {
   "cell_type": "markdown",
   "source": [
    "3. How t-stats are calculated?\n",
    "\n",
    "    For each stratgey mean returns are calculated by taking average of all months returns, then its t-stat is calculated by its own sample of returns for each month assuming that returns are normal and the null hypothesis is that the mean return is zero.\n",
    "\n",
    "4. Which zero-cost strategy is the most successful?"
   ],
   "metadata": {
    "collapsed": false,
    "pycharm": {
     "name": "#%% md\n"
    }
   }
  },
  {
   "cell_type": "code",
   "execution_count": 122,
   "outputs": [],
   "source": [
    "def find_most_succ_zero_cost_strat_in_pnl(table1):\n",
    "    idxmax = table1[table1[jn.portfo_type].eq(jn.longMinusShort)][\n",
    "        ar.meanReturns].idxmax()\n",
    "    # print(idxmax)\n",
    "    ose = table1.loc[idxmax].drop('l0')\n",
    "    return ose.to_frame()"
   ],
   "metadata": {
    "collapsed": false,
    "pycharm": {
     "name": "#%%\n"
    }
   }
  },
  {
   "cell_type": "markdown",
   "source": [
    "#### In Panel A:\n",
    "(9,6) Strategy"
   ],
   "metadata": {
    "collapsed": false,
    "pycharm": {
     "name": "#%% md\n"
    }
   }
  },
  {
   "cell_type": "code",
   "execution_count": 124,
   "outputs": [
    {
     "name": "stdout",
     "output_type": "stream",
     "text": [
      "-------------  --------------------\n",
      "evalMonths     9\n",
      "holdingMonths  6\n",
      "meanReturns    0.07973459231146847\n",
      "meanTStat      4.540502364832509\n",
      "meanPVal       9.12630888150539e-06\n",
      "portfo_type    longMinusShort\n",
      "-------------  --------------------\n"
     ]
    }
   ],
   "source": [
    "print(tabulate(find_most_succ_zero_cost_strat_in_pnl(tbl1_pnl_a)))"
   ],
   "metadata": {
    "collapsed": false,
    "pycharm": {
     "name": "#%%\n"
    }
   }
  },
  {
   "cell_type": "markdown",
   "source": [
    "#### In Panel B:\n",
    "(9,6) Strategy"
   ],
   "metadata": {
    "collapsed": false,
    "pycharm": {
     "name": "#%% md\n"
    }
   }
  },
  {
   "cell_type": "code",
   "execution_count": 126,
   "outputs": [
    {
     "name": "stdout",
     "output_type": "stream",
     "text": [
      "-------------  ---------------------\n",
      "evalMonths     9\n",
      "holdingMonths  6\n",
      "meanReturns    0.07489864171009505\n",
      "meanTStat      4.723539012316343\n",
      "meanPVal       4.070594496881118e-06\n",
      "portfo_type    longMinusShort\n",
      "-------------  ---------------------\n"
     ]
    }
   ],
   "source": [
    "print(tabulate(find_most_succ_zero_cost_strat_in_pnl(tbl1_pnl_b)))"
   ],
   "metadata": {
    "collapsed": false,
    "pycharm": {
     "name": "#%%\n"
    }
   }
  },
  {
   "cell_type": "markdown",
   "source": [
    "* Why all short strategies have negative returns? This is in the contrary with JT(93) examination of the US market.\n",
    "* Do JT(93) take short position on sell portfolio or long?"
   ],
   "metadata": {
    "collapsed": false,
    "pycharm": {
     "name": "#%% md\n"
    }
   }
  },
  {
   "cell_type": "code",
   "execution_count": null,
   "outputs": [],
   "source": [
    "mean()\n"
   ],
   "metadata": {
    "collapsed": false,
    "pycharm": {
     "name": "#%%\n"
    }
   }
  }
 ],
 "metadata": {
  "kernelspec": {
   "name": "python3",
   "language": "python",
   "display_name": "Python 3 (ipykernel)"
  },
  "language_info": {
   "codemirror_mode": {
    "name": "ipython",
    "version": 3
   },
   "file_extension": ".py",
   "mimetype": "text/x-python",
   "name": "python",
   "nbconvert_exporter": "python",
   "pygments_lexer": "ipython3",
   "version": "3.9.5"
  },
  "widgets": {
   "application/vnd.jupyter.widget-state+json": {
    "state": {},
    "version_major": 2,
    "version_minor": 0
   }
  },
  "interpreter": {
   "hash": "cb3ddba540982b29a97b1e12407c92f053de19cdd62fc5a049be6801a9e5998f"
  }
 },
 "nbformat": 4,
 "nbformat_minor": 4
}